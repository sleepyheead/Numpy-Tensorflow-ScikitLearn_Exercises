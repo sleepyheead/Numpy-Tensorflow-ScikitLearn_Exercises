{
 "cells": [
  {
   "cell_type": "code",
   "execution_count": 6,
   "source": [
    "import tensorflow as tf\n",
    "print(tf.__version__)\n",
    "\n",
    "import warnings\n",
    "warnings.filterwarnings('ignore')"
   ],
   "outputs": [
    {
     "output_type": "stream",
     "name": "stdout",
     "text": [
      "2.6.0\n"
     ]
    }
   ],
   "metadata": {}
  },
  {
   "cell_type": "markdown",
   "source": [
    "# What are Tensors\n",
    "\n",
    "Tensor are multi-dimensitonal arrays that are used in Tensorflow.\n",
    "\n",
    "All tensors are immutable like Python numbers and strings: you can never update the contents of a tensor, only create a new one.\n",
    "\n",
    "# Difference between Tensorflow tensor and numpy array\n",
    "\n",
    "Tensors are more generalized vectors. Thus every tensor can be represented as a multidimensional array or vector, but not every vector can be represented as tensors.\n",
    "\n",
    "Hence as numpy arrays can easily be replaced with tensorflow’s tensor , but the reverse is not true.\n",
    "\n",
    "Another difference between a NumPy array and a tensor is that the tensors are backed by the accelerator memory like . So tensors can be used on GPUs and TPUs. \n",
    "\n",
    "\n",
    "### We use the following definition:\n",
    "\n",
    "Rank: The number of dimensions that a vector has.\n",
    "\n",
    "![Imgur](https://imgur.com/Q0dwaoF.png)\n",
    "\n",
    "[Source](https://towardsdatascience.com/mastering-tensorflow-tensors-in-5-easy-steps-35f21998bb86)\n",
    "\n",
    "Below, we will define different kinds of tensors and show their rank using tf.rank function.\n",
    "\n",
    "---\n",
    "\n",
    "## [tf.constant](https://www.tensorflow.org/api_docs/python/tf/constant)\n",
    "\n",
    "Creates a constant tensor from a tensor-like object.\n",
    "\n",
    "Lets quickly checkout their documentation\n",
    "\n"
   ],
   "metadata": {}
  },
  {
   "cell_type": "code",
   "execution_count": 7,
   "source": [
    "tensor = tf.constant(0)\n",
    "\n",
    "print(\"Print constant tensor {} of rank {}\".format(tensor, tf.rank(tensor)))\n",
    "\n",
    "print(\"Show full tensor:\", tensor)"
   ],
   "outputs": [
    {
     "output_type": "stream",
     "name": "stdout",
     "text": [
      "Print constant tensor 0 of rank 0\n",
      "Show full tensor: tf.Tensor(0, shape=(), dtype=int32)\n"
     ]
    }
   ],
   "metadata": {}
  },
  {
   "cell_type": "markdown",
   "source": [
    "In TensorFlow the differences between constants and variables are that when you declare some constant, its value can't be changed in the future (also the initialization should be with a value, not with operation).\n",
    "\n",
    "Nevertheless, when you declare a Variable, you can change its value in the future with [tf.assign()](https://www.tensorflow.org/api_docs/python/tf/Variable#assign) method (and the initialization can be achieved with a value or operation)."
   ],
   "metadata": {}
  },
  {
   "cell_type": "code",
   "execution_count": 8,
   "source": [
    "# NOTE: We use .numpy() to transform tf.tensor to numpy\n",
    "\n",
    "tensor = tf.constant([1,2,3])\n",
    "print(\"Tensor:\", tensor)\n",
    "print(\"Rank:\", tf.rank(tensor).numpy())"
   ],
   "outputs": [
    {
     "output_type": "stream",
     "name": "stdout",
     "text": [
      "Tensor: tf.Tensor([1 2 3], shape=(3,), dtype=int32)\n",
      "Rank: 1\n"
     ]
    }
   ],
   "metadata": {}
  },
  {
   "cell_type": "markdown",
   "source": [
    "## Tensor Operations"
   ],
   "metadata": {}
  },
  {
   "cell_type": "code",
   "execution_count": 9,
   "source": [
    "x = tf.constant([[1, 1],\n",
    "                 [1, 1]])\n",
    "y = tf.constant([[2, 4],\n",
    "                 [6, 8]])"
   ],
   "outputs": [],
   "metadata": {}
  },
  {
   "cell_type": "code",
   "execution_count": 10,
   "source": [
    "# Add two tensors\n",
    "print(tf.add(x, y), \"\\n\")\n",
    "\n",
    "# Add two tensors\n",
    "print(tf.matmul(x, y), \"\\n\")"
   ],
   "outputs": [
    {
     "output_type": "stream",
     "name": "stdout",
     "text": [
      "tf.Tensor(\n",
      "[[3 5]\n",
      " [7 9]], shape=(2, 2), dtype=int32) \n",
      "\n",
      "tf.Tensor(\n",
      "[[ 8 12]\n",
      " [ 8 12]], shape=(2, 2), dtype=int32) \n",
      "\n"
     ]
    }
   ],
   "metadata": {}
  },
  {
   "cell_type": "markdown",
   "source": [
    "### Muti-dimentional Tensors\n",
    "\n",
    "This part is not much different compared to what we learned so far. However, it would be nice to try extracting as much information as we can from a multi-dimentional tensor.\n",
    "\n",
    "Let's use [tf.ones](https://www.tensorflow.org/api_docs/python/tf/ones) for our purpose here. It creates an all-one tensor."
   ],
   "metadata": {}
  },
  {
   "cell_type": "code",
   "execution_count": 11,
   "source": [
    "# We set the shape of the tensor and the desired data type.\n",
    "tensor = tf.ones(shape = [2, 3, 6], dtype = tf.float32)\n",
    "print('Tensor:', tensor)"
   ],
   "outputs": [
    {
     "output_type": "stream",
     "name": "stdout",
     "text": [
      "Tensor: tf.Tensor(\n",
      "[[[1. 1. 1. 1. 1. 1.]\n",
      "  [1. 1. 1. 1. 1. 1.]\n",
      "  [1. 1. 1. 1. 1. 1.]]\n",
      "\n",
      " [[1. 1. 1. 1. 1. 1.]\n",
      "  [1. 1. 1. 1. 1. 1.]\n",
      "  [1. 1. 1. 1. 1. 1.]]], shape=(2, 3, 6), dtype=float32)\n"
     ]
    }
   ],
   "metadata": {}
  }
 ],
 "metadata": {
  "orig_nbformat": 4,
  "language_info": {
   "name": "python",
   "version": "3.9.6",
   "mimetype": "text/x-python",
   "codemirror_mode": {
    "name": "ipython",
    "version": 3
   },
   "pygments_lexer": "ipython3",
   "nbconvert_exporter": "python",
   "file_extension": ".py"
  },
  "kernelspec": {
   "name": "python3",
   "display_name": "Python 3.9.6 64-bit"
  },
  "interpreter": {
   "hash": "f9f85f796d01129d0dd105a088854619f454435301f6ffec2fea96ecbd9be4ac"
  }
 },
 "nbformat": 4,
 "nbformat_minor": 2
}