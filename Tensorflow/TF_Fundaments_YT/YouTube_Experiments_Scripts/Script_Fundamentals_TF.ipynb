{
 "cells": [
  {
   "cell_type": "markdown",
   "source": [
    "## Sources for this Video\n",
    "\n",
    "1. Take materials from the Ch-1 of below\n",
    "\n",
    "/media/veracrypt2/ML/TENSORFLOW_Only/1_SELECTED-TF/State-of-the-Art-Deep-Learning-Models-in-TensorFlow-Google-Colab-Ecosystem-2021-USD-52\n",
    "\n",
    "\n",
    "2. Daniel Burke - Udemy Zero to Mastery Introductory Vids\n",
    "\n"
   ],
   "metadata": {}
  },
  {
   "cell_type": "code",
   "execution_count": 1,
   "source": [
    "import tensorflow as tf\n",
    "print(tf.__version__)\n",
    "\n",
    "import warnings\n",
    "warnings.filterwarnings('ignore')"
   ],
   "outputs": [
    {
     "output_type": "stream",
     "name": "stderr",
     "text": [
      "2021-08-27 16:13:26.311542: W tensorflow/stream_executor/platform/default/dso_loader.cc:64] Could not load dynamic library 'libcudart.so.11.0'; dlerror: libcudart.so.11.0: cannot open shared object file: No such file or directory\n",
      "2021-08-27 16:13:26.311568: I tensorflow/stream_executor/cuda/cudart_stub.cc:29] Ignore above cudart dlerror if you do not have a GPU set up on your machine.\n",
      "/usr/lib/python3/dist-packages/requests/__init__.py:89: RequestsDependencyWarning: urllib3 (1.26.6) or chardet (3.0.4) doesn't match a supported version!\n",
      "  warnings.warn(\"urllib3 ({}) or chardet ({}) doesn't match a supported \"\n"
     ]
    },
    {
     "output_type": "stream",
     "name": "stdout",
     "text": [
      "2.6.0\n"
     ]
    }
   ],
   "metadata": {}
  },
  {
   "cell_type": "markdown",
   "source": [
    "# What are Tensors\n",
    "\n",
    "Tensor are multi-dimensitonal arrays that are used in Tensorflow.\n",
    "\n",
    "All tensors are immutable like Python numbers and strings: you can never update the contents of a tensor, only create a new one.\n",
    "\n",
    "# Difference between Tensorflow tensor and numpy array\n",
    "\n",
    "Tensors are more generalized vectors. Thus every tensor can be represented as a multidimensional array or vector, but not every vector can be represented as tensors.\n",
    "\n",
    "Hence as numpy arrays can easily be replaced with tensorflow’s tensor , but the reverse is not true.\n",
    "\n",
    "Another difference between a NumPy array and a tensor is that the tensors are backed by the accelerator memory like . So tensors can be used on GPUs and TPUs. \n",
    "\n",
    "\n",
    "### We use the following definition:\n",
    "\n",
    "Rank: The number of dimensions that a vector has.\n",
    "\n",
    "![Imgur](https://imgur.com/Q0dwaoF.png)\n",
    "\n",
    "[Source](https://towardsdatascience.com/mastering-tensorflow-tensors-in-5-easy-steps-35f21998bb86)\n",
    "\n",
    "Below, we will define different kinds of tensors and show their rank using tf.rank function.\n",
    "\n",
    "---\n",
    "\n",
    "## [tf.constant](https://www.tensorflow.org/api_docs/python/tf/constant)\n",
    "\n",
    "Creates a constant tensor from a tensor-like object.\n",
    "\n",
    "Lets quickly checkout their documentation\n",
    "\n"
   ],
   "metadata": {}
  },
  {
   "cell_type": "code",
   "execution_count": 2,
   "source": [
    "tensor = tf.constant(0)\n",
    "\n",
    "print(\"Print constant tensor {} of rank {}\".format(tensor, tf.rank(tensor)))\n",
    "\n",
    "print(\"Show full tensor:\", tensor)"
   ],
   "outputs": [
    {
     "output_type": "stream",
     "name": "stdout",
     "text": [
      "Print constant tensor 0 of rank 0\n",
      "Show full tensor: tf.Tensor(0, shape=(), dtype=int32)\n"
     ]
    },
    {
     "output_type": "stream",
     "name": "stderr",
     "text": [
      "2021-08-27 16:13:29.120816: I tensorflow/stream_executor/cuda/cuda_gpu_executor.cc:937] successful NUMA node read from SysFS had negative value (-1), but there must be at least one NUMA node, so returning NUMA node zero\n",
      "2021-08-27 16:13:29.121201: W tensorflow/stream_executor/platform/default/dso_loader.cc:64] Could not load dynamic library 'libcudart.so.11.0'; dlerror: libcudart.so.11.0: cannot open shared object file: No such file or directory\n",
      "2021-08-27 16:13:29.121288: W tensorflow/stream_executor/platform/default/dso_loader.cc:64] Could not load dynamic library 'libcublas.so.11'; dlerror: libcublas.so.11: cannot open shared object file: No such file or directory\n",
      "2021-08-27 16:13:29.121355: W tensorflow/stream_executor/platform/default/dso_loader.cc:64] Could not load dynamic library 'libcublasLt.so.11'; dlerror: libcublasLt.so.11: cannot open shared object file: No such file or directory\n",
      "2021-08-27 16:13:29.121411: W tensorflow/stream_executor/platform/default/dso_loader.cc:64] Could not load dynamic library 'libcufft.so.10'; dlerror: libcufft.so.10: cannot open shared object file: No such file or directory\n",
      "2021-08-27 16:13:29.121463: W tensorflow/stream_executor/platform/default/dso_loader.cc:64] Could not load dynamic library 'libcurand.so.10'; dlerror: libcurand.so.10: cannot open shared object file: No such file or directory\n",
      "2021-08-27 16:13:29.121520: W tensorflow/stream_executor/platform/default/dso_loader.cc:64] Could not load dynamic library 'libcusolver.so.11'; dlerror: libcusolver.so.11: cannot open shared object file: No such file or directory\n",
      "2021-08-27 16:13:29.121575: W tensorflow/stream_executor/platform/default/dso_loader.cc:64] Could not load dynamic library 'libcusparse.so.11'; dlerror: libcusparse.so.11: cannot open shared object file: No such file or directory\n",
      "2021-08-27 16:13:29.121630: W tensorflow/stream_executor/platform/default/dso_loader.cc:64] Could not load dynamic library 'libcudnn.so.8'; dlerror: libcudnn.so.8: cannot open shared object file: No such file or directory\n",
      "2021-08-27 16:13:29.121639: W tensorflow/core/common_runtime/gpu/gpu_device.cc:1835] Cannot dlopen some GPU libraries. Please make sure the missing libraries mentioned above are installed properly if you would like to use GPU. Follow the guide at https://www.tensorflow.org/install/gpu for how to download and setup the required libraries for your platform.\n",
      "Skipping registering GPU devices...\n",
      "2021-08-27 16:13:29.122936: I tensorflow/core/platform/cpu_feature_guard.cc:142] This TensorFlow binary is optimized with oneAPI Deep Neural Network Library (oneDNN) to use the following CPU instructions in performance-critical operations:  AVX2 FMA\n",
      "To enable them in other operations, rebuild TensorFlow with the appropriate compiler flags.\n"
     ]
    }
   ],
   "metadata": {}
  },
  {
   "cell_type": "markdown",
   "source": [
    "In TensorFlow the differences between constants and variables are that when you declare some constant, its value can't be changed in the future (also the initialization should be with a value, not with operation).\n",
    "\n",
    "Nevertheless, when you declare a Variable, you can change its value in the future with [tf.assign()](https://www.tensorflow.org/api_docs/python/tf/Variable#assign) method (and the initialization can be achieved with a value or operation)."
   ],
   "metadata": {}
  },
  {
   "cell_type": "code",
   "execution_count": 3,
   "source": [
    "# NOTE: We use .numpy() to transform tf.tensor to numpy\n",
    "\n",
    "tensor = tf.constant([1,2,3])\n",
    "# tensor = tf.constant([[1,2,3], [4,8,7]])\n",
    "print(\"Tensor:\", tensor)\n",
    "# print(\"Rank:\", tf.rank(tensor).numpy())\n",
    "print(tf.rank(tensor).numpy())"
   ],
   "outputs": [
    {
     "output_type": "stream",
     "name": "stdout",
     "text": [
      "Tensor: tf.Tensor([1 2 3], shape=(3,), dtype=int32)\n",
      "1\n"
     ]
    }
   ],
   "metadata": {}
  },
  {
   "cell_type": "markdown",
   "source": [
    "*********** DONE UPTO HERE ***********\n",
    "\n",
    "## Tensor Operations"
   ],
   "metadata": {}
  },
  {
   "cell_type": "code",
   "execution_count": 4,
   "source": [
    "tensor.ndim"
   ],
   "outputs": [
    {
     "output_type": "execute_result",
     "data": {
      "text/plain": [
       "1"
      ]
     },
     "metadata": {},
     "execution_count": 4
    }
   ],
   "metadata": {}
  },
  {
   "cell_type": "code",
   "execution_count": 5,
   "source": [
    "tensor = tf.constant([[[1, 2, 3],\n",
    "                       [4, 5, 6]],\n",
    "                      \n",
    "                      [[7, 8, 9],\n",
    "                       [10, 11, 12]],\n",
    "                      \n",
    "                      [[13, 14, 15],\n",
    "                       [16, 17, 18]]])\n",
    "tensor"
   ],
   "outputs": [
    {
     "output_type": "execute_result",
     "data": {
      "text/plain": [
       "<tf.Tensor: shape=(3, 2, 3), dtype=int32, numpy=\n",
       "array([[[ 1,  2,  3],\n",
       "        [ 4,  5,  6]],\n",
       "\n",
       "       [[ 7,  8,  9],\n",
       "        [10, 11, 12]],\n",
       "\n",
       "       [[13, 14, 15],\n",
       "        [16, 17, 18]]], dtype=int32)>"
      ]
     },
     "metadata": {},
     "execution_count": 5
    }
   ],
   "metadata": {}
  },
  {
   "cell_type": "markdown",
   "source": [
    "## datatype of Tensors\n",
    "\n",
    "By default, TensorFlow creates tensors with either an `int32` or `float32` datatype.\n",
    "\n",
    "This is known as [32-bit precision](https://en.wikipedia.org/wiki/Precision_(computer_science) (the higher the number, the more precise the number, the more space it takes up on your computer)."
   ],
   "metadata": {}
  },
  {
   "cell_type": "code",
   "execution_count": 6,
   "source": [
    "tensor_float16  = tf.constant([[10., 7.],\n",
    "                              [3., 2.]\n",
    "                              ], dtype=tf.float16) # specify the datatype with 'dtype'\n",
    "tensor_float16"
   ],
   "outputs": [
    {
     "output_type": "execute_result",
     "data": {
      "text/plain": [
       "<tf.Tensor: shape=(2, 2), dtype=float16, numpy=\n",
       "array([[10.,  7.],\n",
       "       [ 3.,  2.]], dtype=float16)>"
      ]
     },
     "metadata": {},
     "execution_count": 6
    }
   ],
   "metadata": {}
  },
  {
   "cell_type": "markdown",
   "source": [
    "## Creating Tensors with `tf.Variable()`\n",
    "\n",
    "I can also  create tensors using [`tf.Variable()`](https://www.tensorflow.org/api_docs/python/tf/Variable).\n",
    "\n",
    "The difference between `tf.Variable()` and `tf.constant()` is tensors created with `tf.constant()` are immutable (can't be changed, can only be used to create a new tensor), where as, tensors created with `tf.Variable()` are mutable (can be changed)."
   ],
   "metadata": {}
  },
  {
   "cell_type": "code",
   "execution_count": 7,
   "source": [
    "# Create the same tensor with tf.Variable() and tf.constant()\n",
    "mutable_tensor = tf.Variable([4, 5])\n",
    "\n",
    "immuable_tensor = tf.constant([6, 7])\n",
    "\n",
    "mutable_tensor"
   ],
   "outputs": [
    {
     "output_type": "execute_result",
     "data": {
      "text/plain": [
       "<tf.Variable 'Variable:0' shape=(2,) dtype=int32, numpy=array([4, 5], dtype=int32)>"
      ]
     },
     "metadata": {},
     "execution_count": 7
    }
   ],
   "metadata": {}
  },
  {
   "cell_type": "code",
   "execution_count": 8,
   "source": [
    "# immuable_tensor[0] = 12"
   ],
   "outputs": [],
   "metadata": {}
  },
  {
   "cell_type": "code",
   "execution_count": 9,
   "source": [
    "mutable_tensor[0].assign(12)\n",
    "mutable_tensor"
   ],
   "outputs": [
    {
     "output_type": "execute_result",
     "data": {
      "text/plain": [
       "<tf.Variable 'Variable:0' shape=(2,) dtype=int32, numpy=array([12,  5], dtype=int32)>"
      ]
     },
     "metadata": {},
     "execution_count": 9
    }
   ],
   "metadata": {}
  },
  {
   "cell_type": "markdown",
   "source": [
    "# ************************"
   ],
   "metadata": {}
  },
  {
   "cell_type": "code",
   "execution_count": 10,
   "source": [
    "x = tf.constant([[1, 1],\n",
    "                 [1, 1]])\n",
    "y = tf.constant([[2, 4],\n",
    "                 [6, 8]])"
   ],
   "outputs": [],
   "metadata": {}
  },
  {
   "cell_type": "code",
   "execution_count": 11,
   "source": [
    "# Add two tensors\n",
    "print(tf.add(x, y), \"\\n\")\n",
    "\n",
    "# Add two tensors\n",
    "print(tf.matmul(x, y), \"\\n\")"
   ],
   "outputs": [
    {
     "output_type": "stream",
     "name": "stdout",
     "text": [
      "tf.Tensor(\n",
      "[[3 5]\n",
      " [7 9]], shape=(2, 2), dtype=int32) \n",
      "\n",
      "tf.Tensor(\n",
      "[[ 8 12]\n",
      " [ 8 12]], shape=(2, 2), dtype=int32) \n",
      "\n"
     ]
    }
   ],
   "metadata": {}
  },
  {
   "cell_type": "markdown",
   "source": [
    "### Muti-dimentional Tensors\n",
    "\n",
    "This part is not much different compared to what we learned so far. However, it would be nice to try extracting as much information as we can from a multi-dimentional tensor.\n",
    "\n",
    "Let's use [tf.ones](https://www.tensorflow.org/api_docs/python/tf/ones) for our purpose here. It creates an all-one tensor."
   ],
   "metadata": {}
  },
  {
   "cell_type": "code",
   "execution_count": 12,
   "source": [
    "# We set the shape of the tensor and the desired data type.\n",
    "tensor = tf.ones(shape = [2, 3, 6], dtype = tf.float32)\n",
    "print('Tensor:', tensor)"
   ],
   "outputs": [
    {
     "output_type": "stream",
     "name": "stdout",
     "text": [
      "Tensor: tf.Tensor(\n",
      "[[[1. 1. 1. 1. 1. 1.]\n",
      "  [1. 1. 1. 1. 1. 1.]\n",
      "  [1. 1. 1. 1. 1. 1.]]\n",
      "\n",
      " [[1. 1. 1. 1. 1. 1.]\n",
      "  [1. 1. 1. 1. 1. 1.]\n",
      "  [1. 1. 1. 1. 1. 1.]]], shape=(2, 3, 6), dtype=float32)\n"
     ]
    }
   ],
   "metadata": {}
  },
  {
   "cell_type": "markdown",
   "source": [
    "## Creating Random Tensors\n",
    "\n",
    "Random tensors are tensors of some abitrary size which contain random numbers.\n",
    "\n",
    "Why we need them\n",
    "\n",
    "This is what neural networks use to intialize their weights (patterns) that they're trying to learn in the data.\n",
    "\n",
    "For example, the process of a neural network learning often involves taking a random n-dimensional array of numbers and refining them until they represent some kind of pattern (a compressed way to represent the original data)."
   ],
   "metadata": {}
  },
  {
   "cell_type": "code",
   "execution_count": 13,
   "source": [
    "random_1 = tf.random.Generator.from_seed(42) # set the seed for reproducibility\n",
    "\n",
    "random_2 = random_1.normal(shape=(3, 2)) # create tensor from a normal distribution \n",
    "\n",
    "\n",
    "random_3 = random_1.uniform(shape=(3, 2))\n",
    "random_3\n"
   ],
   "outputs": [
    {
     "output_type": "execute_result",
     "data": {
      "text/plain": [
       "<tf.Tensor: shape=(3, 2), dtype=float32, numpy=\n",
       "array([[0.7647915 , 0.03845465],\n",
       "       [0.8506975 , 0.20781887],\n",
       "       [0.711869  , 0.8843919 ]], dtype=float32)>"
      ]
     },
     "metadata": {},
     "execution_count": 13
    }
   ],
   "metadata": {}
  },
  {
   "cell_type": "markdown",
   "source": [
    "## What is seed in Tensorflow\n",
    "\n",
    "The term \"seed\" is an abbreviation of the standard term \"random seed\".\n",
    "\n",
    "TensorFlow operators that produce random results accept an optional seed parameter. If you pass the same number to two instances of the same operator, they will produce the same sequence of results. If you not pass a number to such an operator, it will produce different results on each execution.\n",
    "\n",
    "This is not a tensorflow specific term, in fact almost any programming language have a seed for random generators, with a seed you make sure that you can reproduce your results when using random generators(using the same seed two times, would result in the same random number)"
   ],
   "metadata": {}
  },
  {
   "cell_type": "code",
   "execution_count": 14,
   "source": [
    "a = tf.random.shuffle([1,2,3,4,5,6], seed=567436).numpy()\n",
    "b = tf.random.shuffle([1,2,3,4,5,6], seed=567436).numpy()\n",
    "a == b"
   ],
   "outputs": [
    {
     "output_type": "execute_result",
     "data": {
      "text/plain": [
       "array([ True, False,  True, False,  True, False])"
      ]
     },
     "metadata": {},
     "execution_count": 14
    }
   ],
   "metadata": {}
  },
  {
   "cell_type": "code",
   "execution_count": 15,
   "source": [
    "tf.random.set_seed(123456)\n",
    "a = tf.random.shuffle([1,2,3,4,5,6], seed=567436).numpy()\n",
    "tf.random.set_seed(123456)\n",
    "b = tf.random.shuffle([1,2,3,4,5,6], seed=567436).numpy()\n",
    "a == b"
   ],
   "outputs": [
    {
     "output_type": "execute_result",
     "data": {
      "text/plain": [
       "array([ True,  True,  True,  True,  True,  True])"
      ]
     },
     "metadata": {},
     "execution_count": 15
    }
   ],
   "metadata": {}
  },
  {
   "cell_type": "markdown",
   "source": [
    "## Important Note - the call to the global seed with tf.random.set_seed() - should be done before each operation.\n",
    "\n",
    "https://www.tensorflow.org/api_docs/python/tf/random/set_seed"
   ],
   "metadata": {}
  },
  {
   "cell_type": "markdown",
   "source": [
    "# The tf.data API\n",
    "\n",
    "The tf.data API revolves around the concept of a dataset, which represents a sequence of data items. \n",
    "\n",
    "The tf.data API enables creation of flexible and efficient input pipelines by delivering\n",
    "data for the next step of training before the current step has finished.\n",
    "\n",
    "\n",
    "Let's create our first TensorFlow dataset now."
   ],
   "metadata": {}
  },
  {
   "cell_type": "code",
   "execution_count": 16,
   "source": [
    "X = tf.range(5)\n",
    "X"
   ],
   "outputs": [
    {
     "output_type": "execute_result",
     "data": {
      "text/plain": [
       "<tf.Tensor: shape=(5,), dtype=int32, numpy=array([0, 1, 2, 3, 4], dtype=int32)>"
      ]
     },
     "metadata": {},
     "execution_count": 16
    }
   ],
   "metadata": {}
  },
  {
   "cell_type": "markdown",
   "source": [
    "The dataset is a vector with five NumPy *int32* values ranging from 0 to 4.\n",
    "\n",
    "We can easily display actual values from the TensorFlow tensor we just created:"
   ],
   "metadata": {}
  },
  {
   "cell_type": "code",
   "execution_count": 17,
   "source": [
    "X.numpy()"
   ],
   "outputs": [
    {
     "output_type": "execute_result",
     "data": {
      "text/plain": [
       "array([0, 1, 2, 3, 4], dtype=int32)"
      ]
     },
     "metadata": {},
     "execution_count": 17
    }
   ],
   "metadata": {}
  },
  {
   "cell_type": "markdown",
   "source": [
    "# Let's convert the dataset to a TensorFlow dataset with 'from_tensor_slices'"
   ],
   "metadata": {}
  },
  {
   "cell_type": "code",
   "execution_count": 18,
   "source": [
    "dataset = tf.data.Dataset.from_tensor_slices(X)\n",
    "dataset"
   ],
   "outputs": [
    {
     "output_type": "execute_result",
     "data": {
      "text/plain": [
       "<TensorSliceDataset shapes: (), types: tf.int32>"
      ]
     },
     "metadata": {},
     "execution_count": 18
    }
   ],
   "metadata": {}
  },
  {
   "cell_type": "markdown",
   "source": [
    "The **from_tensor_slices** functions takes a tensor and creates a **tf.data.Dataset** whose elements are all the slices of **X** (along the first dimension). \n",
    "\n",
    "So, **dataset** contains five items, namely, tensors 0 to 4. \n",
    "\n",
    "Notice that the shape is '()', which indicates that the elements are scalars.\n",
    "\n",
    "# Iterate a tf.data.Dataset\n",
    "\n",
    "We can simply iterate over the dataset items as so:"
   ],
   "metadata": {}
  },
  {
   "cell_type": "code",
   "execution_count": 19,
   "source": [
    "for item in dataset:\n",
    "  print (item)"
   ],
   "outputs": [
    {
     "output_type": "stream",
     "name": "stdout",
     "text": [
      "tf.Tensor(0, shape=(), dtype=int32)\n",
      "tf.Tensor(1, shape=(), dtype=int32)\n",
      "tf.Tensor(2, shape=(), dtype=int32)\n",
      "tf.Tensor(3, shape=(), dtype=int32)\n",
      "tf.Tensor(4, shape=(), dtype=int32)\n"
     ]
    }
   ],
   "metadata": {}
  },
  {
   "cell_type": "markdown",
   "source": [
    "Depending on the data position and format, the tf.data.Dataset class offers many\n",
    "static methods to use to create a dataset easily:\n",
    "\n",
    "* Tensors in memory: tf.data.Dataset.from_tensors\n",
    "* or tf.data.Dataset.from_tensor_slices. In this case, the tensors can be NumPy\n",
    "* arrays or tf.Tensor objects.\n",
    "\n",
    "From a Python generator: tf.data.Dataset.from_generator.\n",
    "\n",
    "From a list of files that matches a pattern: tf.data.Dataset.list_files.\n",
    "\n",
    "Also, there are two specializations of the `tf.data.Dataset` object created for working \n",
    "with two commonly used file formats:\n",
    "\n",
    "* tf.data.TFRecordDataset - to work with the TFRecord files\n",
    "\n",
    "* tf.data.TextLineDataset - to work with text files, reading them line by line\n"
   ],
   "metadata": {}
  },
  {
   "cell_type": "markdown",
   "source": [
    "Let's say we want to define a dataset that produces an unlimited number of\n",
    "vectors, each one with 100 elements, of random values. This is exactly what I will do a future video on a Generative Adversarial Networks Projcet.\n",
    "\n",
    "So using `tf.data.Dataset.from_generator`, it is possible to do so in a few lines:"
   ],
   "metadata": {}
  },
  {
   "cell_type": "code",
   "execution_count": 20,
   "source": [
    "\n",
    "def noise():\n",
    "    while True:\n",
    "        yield tf.random.uniform((100,))\n",
    "\n",
    "\n",
    "dataset = tf.data.Dataset.from_generator(noise, (tf.float32))\n",
    "\n",
    "\n",
    "''' \n",
    "\n",
    "The only peculiarity of the from_generator method is the need to pass the type of\n",
    "the parameters (tf.float32, in this case) as the second parameter; this is required\n",
    "since to build a graph we need to know the type of the parameters in advance.\n",
    "\n",
    "Using method chaining, it is possible to create new dataset objects, transforming\n",
    "the one just built to get the data our machine learning model expects as input.\n",
    "\n",
    "For example, if we want to \n",
    "\n",
    "- sum 10 to every component of the noise vector,\n",
    "- shuffle the dataset content, and \n",
    "- create batches of 32 vectors each, we can do so\n",
    "\n",
    "by calling just three methods chained together:\n",
    "\n",
    "\n",
    "'''\n",
    "\n",
    "buffer_size = 10\n",
    "batch_size = 32\n",
    "\n",
    "dataset = dataset.map(lambda x: x + 10).shuffle(buffer_size).batch(batch_size)\n",
    "\n",
    "for idx, noise in enumerate(dataset):\n",
    "    if idx == 2:\n",
    "        break\n",
    "    print(idx)\n",
    "    print(noise.shape)\n"
   ],
   "outputs": [
    {
     "output_type": "stream",
     "name": "stdout",
     "text": [
      "0\n",
      "(32, 100)\n",
      "1\n",
      "(32, 100)\n"
     ]
    },
    {
     "output_type": "stream",
     "name": "stderr",
     "text": [
      "2021-08-27 19:54:17.544484: I tensorflow/compiler/mlir/mlir_graph_optimization_pass.cc:185] None of the MLIR Optimization Passes are enabled (registered 2)\n"
     ]
    }
   ],
   "metadata": {}
  },
  {
   "cell_type": "markdown",
   "source": [
    "The `map` method is the most widely used method of the tf.data.Dataset object since\n",
    "it allows us to apply a function to every element of the input dataset, producing a\n",
    "new, transformed dataset.\n",
    "\n",
    "The `shuffle` method is used in every training pipeline since this transformation\n",
    "randomly shuffles the input dataset using a fixed-sized buffer; this means that\n",
    "the shuffled data first fetches the buffer_size element from its input, then shuffles\n",
    "them and produces the output.\n",
    "\n",
    "The bat`c`h method gathers the batch_size elements from its input and creates a\n",
    "batch as output. The only constraint of this transformation is that all elements of\n",
    "the batch must have the same shape.\n"
   ],
   "metadata": {}
  }
 ],
 "metadata": {
  "orig_nbformat": 4,
  "language_info": {
   "name": "python",
   "version": "3.9.6",
   "mimetype": "text/x-python",
   "codemirror_mode": {
    "name": "ipython",
    "version": 3
   },
   "pygments_lexer": "ipython3",
   "nbconvert_exporter": "python",
   "file_extension": ".py"
  },
  "kernelspec": {
   "name": "python3",
   "display_name": "Python 3.9.6 64-bit"
  },
  "interpreter": {
   "hash": "f9f85f796d01129d0dd105a088854619f454435301f6ffec2fea96ecbd9be4ac"
  }
 },
 "nbformat": 4,
 "nbformat_minor": 2
}